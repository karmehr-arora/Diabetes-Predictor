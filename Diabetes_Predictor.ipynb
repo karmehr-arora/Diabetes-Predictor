{
  "nbformat": 4,
  "nbformat_minor": 0,
  "metadata": {
    "colab": {
      "provenance": []
    },
    "kernelspec": {
      "name": "python3",
      "display_name": "Python 3"
    },
    "language_info": {
      "name": "python"
    }
  },
  "cells": [
    {
      "cell_type": "code",
      "execution_count": 4,
      "metadata": {
        "id": "gDyEqAwYx8ZK"
      },
      "outputs": [],
      "source": [
        "import tensorflow as tf\n",
        "from sklearn import preprocessing\n",
        "import numpy as np\n",
        "import matplotlib.pyplot as plt"
      ]
    },
    {
      "cell_type": "markdown",
      "source": [
        "### Extract the data from the csv"
      ],
      "metadata": {
        "id": "y7A7LO7mslo3"
      }
    },
    {
      "cell_type": "code",
      "source": [
        "raw_csv_data = np.loadtxt('diabetes_binary_health_indicators_BRFSS2021.csv',delimiter=',', skiprows=1, encoding = 'utf-8')"
      ],
      "metadata": {
        "id": "N7Ua-QIcBFm6"
      },
      "execution_count": 6,
      "outputs": []
    },
    {
      "cell_type": "code",
      "source": [
        "# contains all the data with the exception of the targets\n",
        "unscaled_inputs = raw_csv_data[:,1:]\n",
        "# contains only the targets\n",
        "targets = raw_csv_data[:,0:1]"
      ],
      "metadata": {
        "id": "WlJ0-NQz-3qr"
      },
      "execution_count": 7,
      "outputs": []
    },
    {
      "cell_type": "markdown",
      "source": [
        "### Balance the dataset"
      ],
      "metadata": {
        "id": "a6TiReuqspI3"
      }
    },
    {
      "cell_type": "code",
      "source": [
        "num_one_targets = int(np.sum(targets))\n",
        "\n",
        "zero_targets_counter = 0\n",
        "\n",
        "indices_to_remove = []\n",
        "\n",
        "for i in range(targets.shape[0]):\n",
        "    if targets[i] == 0:\n",
        "        zero_targets_counter += 1\n",
        "        if zero_targets_counter > num_one_targets:\n",
        "            indices_to_remove.append(i)\n",
        "\n",
        "# Create two new variables, one that will contain the inputs, and one that will contain the targets.\n",
        "# We delete all indices that we marked \"to remove\" in the loop above.\n",
        "balanced_inputs = np.delete(unscaled_inputs, indices_to_remove, axis=0)\n",
        "balanced_targets = np.delete(targets, indices_to_remove, axis=0)\n",
        "\n",
        "zero_targets_counter = 0\n",
        "one_targets_counter = 0\n",
        "two_targets_counter = 0\n",
        "datasetSize = balanced_targets.shape[0]\n",
        "\n",
        "for i in range(balanced_targets.shape[0]):\n",
        "    if balanced_targets[i] == 0:\n",
        "        zero_targets_counter += 1\n",
        "    elif balanced_targets[i] == 1:\n",
        "        one_targets_counter += 1\n",
        "    elif balanced_targets[i] == 2:\n",
        "        two_targets_counter += 1\n",
        "\n",
        "print(\"Percent of people with no diabetes: \", zero_targets_counter/datasetSize*100)\n",
        "print(\"Percent of people with diabetes: \", one_targets_counter/datasetSize*100)\n",
        "# print(\"Percent of people with type two diabetes: \", two_targets_counter/datasetSize*100)"
      ],
      "metadata": {
        "colab": {
          "base_uri": "https://localhost:8080/"
        },
        "id": "PSX6c3sMBej5",
        "outputId": "6e4b37f6-c988-43c4-ea36-ab9d245bdd45"
      },
      "execution_count": 8,
      "outputs": [
        {
          "output_type": "stream",
          "name": "stdout",
          "text": [
            "Percent of people with no diabetes:  50.0\n",
            "Percent of people with diabetes:  50.0\n"
          ]
        }
      ]
    },
    {
      "cell_type": "markdown",
      "source": [
        "### Standardize Inputs"
      ],
      "metadata": {
        "id": "aD023BuJsvR9"
      }
    },
    {
      "cell_type": "code",
      "source": [
        "scaled_inputs = preprocessing.scale(balanced_inputs)\n",
        "print(scaled_inputs)"
      ],
      "metadata": {
        "colab": {
          "base_uri": "https://localhost:8080/"
        },
        "id": "X8yQq514LEBA",
        "outputId": "8130ee83-b38b-471d-e5c2-f22d2ab2ac17"
      },
      "execution_count": 9,
      "outputs": [
        {
          "output_type": "stream",
          "name": "stdout",
          "text": [
            "[[-1.09095988  1.00068541  0.15863454 ...  0.82656736 -1.06362948\n",
            "  -0.64861212]\n",
            " [ 0.91662399 -0.99931506  0.15863454 ...  0.82656736 -1.06362948\n",
            "  -1.45728891]\n",
            " [ 0.91662399  1.00068541  0.15863454 ...  0.17638486 -1.06362948\n",
            "   0.16006467]\n",
            " ...\n",
            " [ 0.91662399  1.00068541  0.15863454 ... -0.14870639  0.95132097\n",
            "  -0.24427373]\n",
            " [ 0.91662399  1.00068541  0.15863454 ...  0.50147611 -1.06362948\n",
            "  -0.64861212]\n",
            " [ 0.91662399  1.00068541  0.15863454 ...  0.50147611 -3.07857993\n",
            "  -1.45728891]]\n"
          ]
        }
      ]
    },
    {
      "cell_type": "markdown",
      "source": [
        "### Shuffle and Split the dataset into train, validation, and test"
      ],
      "metadata": {
        "id": "MWtPWjres5P9"
      }
    },
    {
      "cell_type": "code",
      "source": [
        "from sklearn.model_selection import train_test_split\n",
        "train_targets , validation_targets, train_inputs , validation_inputs = train_test_split(balanced_targets,balanced_inputs, test_size=0.2, random_state=42, shuffle =True)"
      ],
      "metadata": {
        "id": "9wVzZZrwdtT4"
      },
      "execution_count": 10,
      "outputs": []
    },
    {
      "cell_type": "code",
      "source": [
        "train_targets , test_targets, train_inputs , test_inputs = train_test_split(train_targets,train_inputs, test_size=0.125, random_state=42, shuffle =True)"
      ],
      "metadata": {
        "id": "oMNPjqtvo2hz"
      },
      "execution_count": 11,
      "outputs": []
    },
    {
      "cell_type": "code",
      "source": [
        "print(\"train_inputs shape: \", train_inputs.shape)\n",
        "print(\"train_targets shape: \", train_targets.shape)\n",
        "print()\n",
        "print(\"test_inputs shape: \", validation_inputs.shape)\n",
        "print(\"test_targets shape: \", validation_targets.shape)\n",
        "print()\n",
        "print(\"test_inputs shape: \", test_inputs.shape)\n",
        "print(\"test_targets shape: \", test_targets.shape)"
      ],
      "metadata": {
        "colab": {
          "base_uri": "https://localhost:8080/"
        },
        "id": "aHjALFa3eliQ",
        "outputId": "fc555562-68b9-4575-a653-eb01e01c23ff"
      },
      "execution_count": 12,
      "outputs": [
        {
          "output_type": "stream",
          "name": "stdout",
          "text": [
            "train_inputs shape:  (46994, 21)\n",
            "train_targets shape:  (46994, 1)\n",
            "\n",
            "test_inputs shape:  (13428, 21)\n",
            "test_targets shape:  (13428, 1)\n",
            "\n",
            "test_inputs shape:  (6714, 21)\n",
            "test_targets shape:  (6714, 1)\n"
          ]
        }
      ]
    },
    {
      "cell_type": "markdown",
      "source": [
        "### Machine Learning Model"
      ],
      "metadata": {
        "id": "OP01e9HJtOgf"
      }
    },
    {
      "cell_type": "code",
      "source": [
        "import keras\n",
        "# # Set the input and output sizes\n",
        "input_size = 2\n",
        "output_size = 2\n",
        "# Use same hidden layer size for both hidden layers\n",
        "hidden_layer_size = 25\n",
        "\n",
        "# define how the model will look\n",
        "model = tf.keras.Sequential([\n",
        "    # tf.keras.layers.Dense is basically implementing: output = activation(dot(input, weight) + bias)\n",
        "    tf.keras.layers.Dense(hidden_layer_size, activation='relu'), # 1st hidden layer\n",
        "    tf.keras.layers.Dense(hidden_layer_size, activation='tanh'), # 2nd hidden layer\n",
        "    # For the final layer must make sure to activate it with softmax as this is a classification problem\n",
        "    tf.keras.layers.Dense(output_size, activation='softmax') # output layer\n",
        "])\n",
        "\n",
        "\n",
        "### Choose the optimizer and the loss function\n",
        "# Define optimizer, loss function, and the metrics we're interested in obtaining at each iteration\n",
        "optimizer = keras.optimizers.Adam(learning_rate=0.001)\n",
        "model.compile(optimizer='AdaGrad', loss='sparse_categorical_crossentropy', metrics=['accuracy'])\n",
        "\n",
        "### Training\n",
        "# set the batch size\n",
        "batch_size = 50\n",
        "# set a maximum number of training epochs\n",
        "max_epochs = 100\n",
        "\n",
        "# early stopping mechanism; set to 4 to be a bit tolerant against random validation loss increases\n",
        "early_stopping = tf.keras.callbacks.EarlyStopping(patience=4)\n",
        "\n",
        "# fit the model\n",
        "# note: train, validation and test data are not iterable here\n",
        "history = model.fit(train_inputs, # train inputs\n",
        "          train_targets, # train targets\n",
        "          batch_size=batch_size, # batch size\n",
        "          epochs=max_epochs, # epochs trained for (assuming early stopping doesn't occur)\n",
        "          callbacks=[early_stopping], # early stopping, checks if validation loss is increasing\n",
        "          validation_data=(validation_inputs, validation_targets), # validation data\n",
        "          verbose = 2 # determines amount of info returned during training process\n",
        "          )"
      ],
      "metadata": {
        "colab": {
          "base_uri": "https://localhost:8080/"
        },
        "id": "1EN34HEYtQf8",
        "outputId": "6c6c253b-aa65-4f0a-c367-c1215229e232"
      },
      "execution_count": 13,
      "outputs": [
        {
          "output_type": "stream",
          "name": "stdout",
          "text": [
            "Epoch 1/100\n",
            "940/940 - 3s - loss: 0.7838 - accuracy: 0.5120 - val_loss: 0.6781 - val_accuracy: 0.5426 - 3s/epoch - 3ms/step\n",
            "Epoch 2/100\n",
            "940/940 - 3s - loss: 0.6692 - accuracy: 0.5719 - val_loss: 0.6616 - val_accuracy: 0.5740 - 3s/epoch - 3ms/step\n",
            "Epoch 3/100\n",
            "940/940 - 2s - loss: 0.6505 - accuracy: 0.6112 - val_loss: 0.6421 - val_accuracy: 0.6323 - 2s/epoch - 2ms/step\n",
            "Epoch 4/100\n",
            "940/940 - 2s - loss: 0.6341 - accuracy: 0.6564 - val_loss: 0.6273 - val_accuracy: 0.6653 - 2s/epoch - 2ms/step\n",
            "Epoch 5/100\n",
            "940/940 - 2s - loss: 0.6212 - accuracy: 0.6742 - val_loss: 0.6164 - val_accuracy: 0.6823 - 2s/epoch - 2ms/step\n",
            "Epoch 6/100\n",
            "940/940 - 2s - loss: 0.6110 - accuracy: 0.6845 - val_loss: 0.6075 - val_accuracy: 0.6853 - 2s/epoch - 2ms/step\n",
            "Epoch 7/100\n",
            "940/940 - 2s - loss: 0.6030 - accuracy: 0.6901 - val_loss: 0.6009 - val_accuracy: 0.6863 - 2s/epoch - 2ms/step\n",
            "Epoch 8/100\n",
            "940/940 - 2s - loss: 0.5973 - accuracy: 0.6935 - val_loss: 0.5960 - val_accuracy: 0.6895 - 2s/epoch - 2ms/step\n",
            "Epoch 9/100\n",
            "940/940 - 2s - loss: 0.5929 - accuracy: 0.6947 - val_loss: 0.5922 - val_accuracy: 0.6920 - 2s/epoch - 2ms/step\n",
            "Epoch 10/100\n",
            "940/940 - 2s - loss: 0.5893 - accuracy: 0.6966 - val_loss: 0.5891 - val_accuracy: 0.6949 - 2s/epoch - 2ms/step\n",
            "Epoch 11/100\n",
            "940/940 - 2s - loss: 0.5862 - accuracy: 0.6983 - val_loss: 0.5861 - val_accuracy: 0.6976 - 2s/epoch - 2ms/step\n",
            "Epoch 12/100\n",
            "940/940 - 2s - loss: 0.5834 - accuracy: 0.7006 - val_loss: 0.5834 - val_accuracy: 0.6985 - 2s/epoch - 2ms/step\n",
            "Epoch 13/100\n",
            "940/940 - 2s - loss: 0.5808 - accuracy: 0.7022 - val_loss: 0.5810 - val_accuracy: 0.6988 - 2s/epoch - 2ms/step\n",
            "Epoch 14/100\n",
            "940/940 - 2s - loss: 0.5784 - accuracy: 0.7034 - val_loss: 0.5788 - val_accuracy: 0.7012 - 2s/epoch - 2ms/step\n",
            "Epoch 15/100\n",
            "940/940 - 2s - loss: 0.5762 - accuracy: 0.7053 - val_loss: 0.5767 - val_accuracy: 0.7017 - 2s/epoch - 3ms/step\n",
            "Epoch 16/100\n",
            "940/940 - 2s - loss: 0.5741 - accuracy: 0.7066 - val_loss: 0.5747 - val_accuracy: 0.7036 - 2s/epoch - 2ms/step\n",
            "Epoch 17/100\n",
            "940/940 - 2s - loss: 0.5722 - accuracy: 0.7073 - val_loss: 0.5730 - val_accuracy: 0.7043 - 2s/epoch - 2ms/step\n",
            "Epoch 18/100\n",
            "940/940 - 2s - loss: 0.5703 - accuracy: 0.7089 - val_loss: 0.5712 - val_accuracy: 0.7052 - 2s/epoch - 2ms/step\n",
            "Epoch 19/100\n",
            "940/940 - 2s - loss: 0.5686 - accuracy: 0.7106 - val_loss: 0.5696 - val_accuracy: 0.7067 - 2s/epoch - 2ms/step\n",
            "Epoch 20/100\n",
            "940/940 - 2s - loss: 0.5669 - accuracy: 0.7110 - val_loss: 0.5681 - val_accuracy: 0.7077 - 2s/epoch - 2ms/step\n",
            "Epoch 21/100\n",
            "940/940 - 3s - loss: 0.5652 - accuracy: 0.7129 - val_loss: 0.5664 - val_accuracy: 0.7084 - 3s/epoch - 3ms/step\n",
            "Epoch 22/100\n",
            "940/940 - 2s - loss: 0.5637 - accuracy: 0.7139 - val_loss: 0.5649 - val_accuracy: 0.7099 - 2s/epoch - 2ms/step\n",
            "Epoch 23/100\n",
            "940/940 - 2s - loss: 0.5622 - accuracy: 0.7150 - val_loss: 0.5636 - val_accuracy: 0.7097 - 2s/epoch - 2ms/step\n",
            "Epoch 24/100\n",
            "940/940 - 2s - loss: 0.5608 - accuracy: 0.7157 - val_loss: 0.5622 - val_accuracy: 0.7100 - 2s/epoch - 2ms/step\n",
            "Epoch 25/100\n",
            "940/940 - 2s - loss: 0.5594 - accuracy: 0.7165 - val_loss: 0.5609 - val_accuracy: 0.7119 - 2s/epoch - 2ms/step\n",
            "Epoch 26/100\n",
            "940/940 - 2s - loss: 0.5581 - accuracy: 0.7177 - val_loss: 0.5597 - val_accuracy: 0.7128 - 2s/epoch - 2ms/step\n",
            "Epoch 27/100\n",
            "940/940 - 3s - loss: 0.5568 - accuracy: 0.7184 - val_loss: 0.5584 - val_accuracy: 0.7130 - 3s/epoch - 3ms/step\n",
            "Epoch 28/100\n",
            "940/940 - 2s - loss: 0.5556 - accuracy: 0.7197 - val_loss: 0.5572 - val_accuracy: 0.7145 - 2s/epoch - 2ms/step\n",
            "Epoch 29/100\n",
            "940/940 - 2s - loss: 0.5544 - accuracy: 0.7203 - val_loss: 0.5561 - val_accuracy: 0.7161 - 2s/epoch - 2ms/step\n",
            "Epoch 30/100\n",
            "940/940 - 2s - loss: 0.5532 - accuracy: 0.7214 - val_loss: 0.5550 - val_accuracy: 0.7175 - 2s/epoch - 2ms/step\n",
            "Epoch 31/100\n",
            "940/940 - 2s - loss: 0.5521 - accuracy: 0.7218 - val_loss: 0.5539 - val_accuracy: 0.7186 - 2s/epoch - 2ms/step\n",
            "Epoch 32/100\n",
            "940/940 - 2s - loss: 0.5510 - accuracy: 0.7222 - val_loss: 0.5529 - val_accuracy: 0.7191 - 2s/epoch - 2ms/step\n",
            "Epoch 33/100\n",
            "940/940 - 2s - loss: 0.5499 - accuracy: 0.7232 - val_loss: 0.5518 - val_accuracy: 0.7196 - 2s/epoch - 2ms/step\n",
            "Epoch 34/100\n",
            "940/940 - 2s - loss: 0.5488 - accuracy: 0.7240 - val_loss: 0.5510 - val_accuracy: 0.7204 - 2s/epoch - 2ms/step\n",
            "Epoch 35/100\n",
            "940/940 - 2s - loss: 0.5478 - accuracy: 0.7247 - val_loss: 0.5499 - val_accuracy: 0.7211 - 2s/epoch - 2ms/step\n",
            "Epoch 36/100\n",
            "940/940 - 2s - loss: 0.5468 - accuracy: 0.7253 - val_loss: 0.5489 - val_accuracy: 0.7204 - 2s/epoch - 2ms/step\n",
            "Epoch 37/100\n",
            "940/940 - 2s - loss: 0.5459 - accuracy: 0.7261 - val_loss: 0.5481 - val_accuracy: 0.7216 - 2s/epoch - 2ms/step\n",
            "Epoch 38/100\n",
            "940/940 - 2s - loss: 0.5449 - accuracy: 0.7263 - val_loss: 0.5473 - val_accuracy: 0.7219 - 2s/epoch - 2ms/step\n",
            "Epoch 39/100\n",
            "940/940 - 2s - loss: 0.5441 - accuracy: 0.7269 - val_loss: 0.5466 - val_accuracy: 0.7231 - 2s/epoch - 2ms/step\n",
            "Epoch 40/100\n",
            "940/940 - 3s - loss: 0.5433 - accuracy: 0.7273 - val_loss: 0.5458 - val_accuracy: 0.7230 - 3s/epoch - 3ms/step\n",
            "Epoch 41/100\n",
            "940/940 - 2s - loss: 0.5425 - accuracy: 0.7279 - val_loss: 0.5451 - val_accuracy: 0.7236 - 2s/epoch - 2ms/step\n",
            "Epoch 42/100\n",
            "940/940 - 2s - loss: 0.5417 - accuracy: 0.7285 - val_loss: 0.5445 - val_accuracy: 0.7248 - 2s/epoch - 2ms/step\n",
            "Epoch 43/100\n",
            "940/940 - 2s - loss: 0.5410 - accuracy: 0.7291 - val_loss: 0.5438 - val_accuracy: 0.7247 - 2s/epoch - 2ms/step\n",
            "Epoch 44/100\n",
            "940/940 - 2s - loss: 0.5403 - accuracy: 0.7299 - val_loss: 0.5431 - val_accuracy: 0.7251 - 2s/epoch - 2ms/step\n",
            "Epoch 45/100\n",
            "940/940 - 2s - loss: 0.5396 - accuracy: 0.7303 - val_loss: 0.5425 - val_accuracy: 0.7257 - 2s/epoch - 2ms/step\n",
            "Epoch 46/100\n",
            "940/940 - 3s - loss: 0.5390 - accuracy: 0.7307 - val_loss: 0.5420 - val_accuracy: 0.7258 - 3s/epoch - 3ms/step\n",
            "Epoch 47/100\n",
            "940/940 - 2s - loss: 0.5384 - accuracy: 0.7315 - val_loss: 0.5415 - val_accuracy: 0.7265 - 2s/epoch - 2ms/step\n",
            "Epoch 48/100\n",
            "940/940 - 2s - loss: 0.5378 - accuracy: 0.7317 - val_loss: 0.5410 - val_accuracy: 0.7268 - 2s/epoch - 2ms/step\n",
            "Epoch 49/100\n",
            "940/940 - 2s - loss: 0.5373 - accuracy: 0.7317 - val_loss: 0.5405 - val_accuracy: 0.7278 - 2s/epoch - 2ms/step\n",
            "Epoch 50/100\n",
            "940/940 - 2s - loss: 0.5367 - accuracy: 0.7324 - val_loss: 0.5401 - val_accuracy: 0.7279 - 2s/epoch - 2ms/step\n",
            "Epoch 51/100\n",
            "940/940 - 2s - loss: 0.5362 - accuracy: 0.7330 - val_loss: 0.5397 - val_accuracy: 0.7283 - 2s/epoch - 2ms/step\n",
            "Epoch 52/100\n",
            "940/940 - 2s - loss: 0.5357 - accuracy: 0.7330 - val_loss: 0.5392 - val_accuracy: 0.7290 - 2s/epoch - 2ms/step\n",
            "Epoch 53/100\n",
            "940/940 - 2s - loss: 0.5353 - accuracy: 0.7338 - val_loss: 0.5389 - val_accuracy: 0.7289 - 2s/epoch - 2ms/step\n",
            "Epoch 54/100\n",
            "940/940 - 2s - loss: 0.5348 - accuracy: 0.7336 - val_loss: 0.5384 - val_accuracy: 0.7297 - 2s/epoch - 2ms/step\n",
            "Epoch 55/100\n",
            "940/940 - 2s - loss: 0.5344 - accuracy: 0.7342 - val_loss: 0.5383 - val_accuracy: 0.7301 - 2s/epoch - 2ms/step\n",
            "Epoch 56/100\n",
            "940/940 - 2s - loss: 0.5340 - accuracy: 0.7346 - val_loss: 0.5377 - val_accuracy: 0.7305 - 2s/epoch - 2ms/step\n",
            "Epoch 57/100\n",
            "940/940 - 2s - loss: 0.5336 - accuracy: 0.7348 - val_loss: 0.5372 - val_accuracy: 0.7312 - 2s/epoch - 2ms/step\n",
            "Epoch 58/100\n",
            "940/940 - 2s - loss: 0.5332 - accuracy: 0.7348 - val_loss: 0.5369 - val_accuracy: 0.7315 - 2s/epoch - 2ms/step\n",
            "Epoch 59/100\n",
            "940/940 - 3s - loss: 0.5328 - accuracy: 0.7356 - val_loss: 0.5367 - val_accuracy: 0.7308 - 3s/epoch - 3ms/step\n",
            "Epoch 60/100\n",
            "940/940 - 2s - loss: 0.5324 - accuracy: 0.7356 - val_loss: 0.5363 - val_accuracy: 0.7324 - 2s/epoch - 2ms/step\n",
            "Epoch 61/100\n",
            "940/940 - 2s - loss: 0.5321 - accuracy: 0.7358 - val_loss: 0.5360 - val_accuracy: 0.7321 - 2s/epoch - 2ms/step\n",
            "Epoch 62/100\n",
            "940/940 - 2s - loss: 0.5318 - accuracy: 0.7358 - val_loss: 0.5358 - val_accuracy: 0.7316 - 2s/epoch - 2ms/step\n",
            "Epoch 63/100\n",
            "940/940 - 2s - loss: 0.5314 - accuracy: 0.7362 - val_loss: 0.5354 - val_accuracy: 0.7322 - 2s/epoch - 2ms/step\n",
            "Epoch 64/100\n",
            "940/940 - 2s - loss: 0.5311 - accuracy: 0.7367 - val_loss: 0.5351 - val_accuracy: 0.7326 - 2s/epoch - 2ms/step\n",
            "Epoch 65/100\n",
            "940/940 - 2s - loss: 0.5308 - accuracy: 0.7367 - val_loss: 0.5349 - val_accuracy: 0.7327 - 2s/epoch - 2ms/step\n",
            "Epoch 66/100\n",
            "940/940 - 2s - loss: 0.5305 - accuracy: 0.7369 - val_loss: 0.5347 - val_accuracy: 0.7321 - 2s/epoch - 3ms/step\n",
            "Epoch 67/100\n",
            "940/940 - 2s - loss: 0.5302 - accuracy: 0.7370 - val_loss: 0.5343 - val_accuracy: 0.7332 - 2s/epoch - 2ms/step\n",
            "Epoch 68/100\n",
            "940/940 - 2s - loss: 0.5299 - accuracy: 0.7371 - val_loss: 0.5341 - val_accuracy: 0.7329 - 2s/epoch - 2ms/step\n",
            "Epoch 69/100\n",
            "940/940 - 2s - loss: 0.5296 - accuracy: 0.7373 - val_loss: 0.5339 - val_accuracy: 0.7326 - 2s/epoch - 2ms/step\n",
            "Epoch 70/100\n",
            "940/940 - 2s - loss: 0.5294 - accuracy: 0.7377 - val_loss: 0.5337 - val_accuracy: 0.7329 - 2s/epoch - 2ms/step\n",
            "Epoch 71/100\n",
            "940/940 - 2s - loss: 0.5291 - accuracy: 0.7380 - val_loss: 0.5333 - val_accuracy: 0.7334 - 2s/epoch - 2ms/step\n",
            "Epoch 72/100\n",
            "940/940 - 2s - loss: 0.5288 - accuracy: 0.7379 - val_loss: 0.5332 - val_accuracy: 0.7332 - 2s/epoch - 2ms/step\n",
            "Epoch 73/100\n",
            "940/940 - 2s - loss: 0.5286 - accuracy: 0.7382 - val_loss: 0.5330 - val_accuracy: 0.7333 - 2s/epoch - 2ms/step\n",
            "Epoch 74/100\n",
            "940/940 - 2s - loss: 0.5283 - accuracy: 0.7384 - val_loss: 0.5326 - val_accuracy: 0.7335 - 2s/epoch - 2ms/step\n",
            "Epoch 75/100\n",
            "940/940 - 2s - loss: 0.5281 - accuracy: 0.7387 - val_loss: 0.5325 - val_accuracy: 0.7338 - 2s/epoch - 2ms/step\n",
            "Epoch 76/100\n",
            "940/940 - 2s - loss: 0.5279 - accuracy: 0.7388 - val_loss: 0.5323 - val_accuracy: 0.7338 - 2s/epoch - 2ms/step\n",
            "Epoch 77/100\n",
            "940/940 - 2s - loss: 0.5277 - accuracy: 0.7387 - val_loss: 0.5322 - val_accuracy: 0.7332 - 2s/epoch - 2ms/step\n",
            "Epoch 78/100\n",
            "940/940 - 2s - loss: 0.5275 - accuracy: 0.7392 - val_loss: 0.5319 - val_accuracy: 0.7336 - 2s/epoch - 3ms/step\n",
            "Epoch 79/100\n",
            "940/940 - 2s - loss: 0.5272 - accuracy: 0.7392 - val_loss: 0.5317 - val_accuracy: 0.7346 - 2s/epoch - 2ms/step\n",
            "Epoch 80/100\n",
            "940/940 - 2s - loss: 0.5270 - accuracy: 0.7393 - val_loss: 0.5316 - val_accuracy: 0.7346 - 2s/epoch - 2ms/step\n",
            "Epoch 81/100\n",
            "940/940 - 2s - loss: 0.5268 - accuracy: 0.7396 - val_loss: 0.5314 - val_accuracy: 0.7350 - 2s/epoch - 2ms/step\n",
            "Epoch 82/100\n",
            "940/940 - 2s - loss: 0.5266 - accuracy: 0.7396 - val_loss: 0.5312 - val_accuracy: 0.7351 - 2s/epoch - 2ms/step\n",
            "Epoch 83/100\n",
            "940/940 - 2s - loss: 0.5264 - accuracy: 0.7397 - val_loss: 0.5310 - val_accuracy: 0.7357 - 2s/epoch - 2ms/step\n",
            "Epoch 84/100\n",
            "940/940 - 2s - loss: 0.5262 - accuracy: 0.7395 - val_loss: 0.5310 - val_accuracy: 0.7359 - 2s/epoch - 2ms/step\n",
            "Epoch 85/100\n",
            "940/940 - 2s - loss: 0.5260 - accuracy: 0.7399 - val_loss: 0.5306 - val_accuracy: 0.7359 - 2s/epoch - 3ms/step\n",
            "Epoch 86/100\n",
            "940/940 - 2s - loss: 0.5259 - accuracy: 0.7402 - val_loss: 0.5305 - val_accuracy: 0.7367 - 2s/epoch - 2ms/step\n",
            "Epoch 87/100\n",
            "940/940 - 2s - loss: 0.5257 - accuracy: 0.7403 - val_loss: 0.5304 - val_accuracy: 0.7373 - 2s/epoch - 2ms/step\n",
            "Epoch 88/100\n",
            "940/940 - 2s - loss: 0.5255 - accuracy: 0.7401 - val_loss: 0.5301 - val_accuracy: 0.7375 - 2s/epoch - 2ms/step\n",
            "Epoch 89/100\n",
            "940/940 - 2s - loss: 0.5254 - accuracy: 0.7404 - val_loss: 0.5300 - val_accuracy: 0.7375 - 2s/epoch - 2ms/step\n",
            "Epoch 90/100\n",
            "940/940 - 2s - loss: 0.5252 - accuracy: 0.7404 - val_loss: 0.5299 - val_accuracy: 0.7376 - 2s/epoch - 2ms/step\n",
            "Epoch 91/100\n",
            "940/940 - 2s - loss: 0.5250 - accuracy: 0.7402 - val_loss: 0.5298 - val_accuracy: 0.7374 - 2s/epoch - 3ms/step\n",
            "Epoch 92/100\n",
            "940/940 - 2s - loss: 0.5249 - accuracy: 0.7408 - val_loss: 0.5296 - val_accuracy: 0.7379 - 2s/epoch - 2ms/step\n",
            "Epoch 93/100\n",
            "940/940 - 2s - loss: 0.5247 - accuracy: 0.7403 - val_loss: 0.5295 - val_accuracy: 0.7381 - 2s/epoch - 2ms/step\n",
            "Epoch 94/100\n",
            "940/940 - 2s - loss: 0.5245 - accuracy: 0.7405 - val_loss: 0.5294 - val_accuracy: 0.7382 - 2s/epoch - 2ms/step\n",
            "Epoch 95/100\n",
            "940/940 - 2s - loss: 0.5244 - accuracy: 0.7409 - val_loss: 0.5292 - val_accuracy: 0.7381 - 2s/epoch - 2ms/step\n",
            "Epoch 96/100\n",
            "940/940 - 2s - loss: 0.5242 - accuracy: 0.7410 - val_loss: 0.5291 - val_accuracy: 0.7389 - 2s/epoch - 2ms/step\n",
            "Epoch 97/100\n",
            "940/940 - 2s - loss: 0.5241 - accuracy: 0.7411 - val_loss: 0.5290 - val_accuracy: 0.7381 - 2s/epoch - 3ms/step\n",
            "Epoch 98/100\n",
            "940/940 - 2s - loss: 0.5240 - accuracy: 0.7415 - val_loss: 0.5288 - val_accuracy: 0.7394 - 2s/epoch - 2ms/step\n",
            "Epoch 99/100\n",
            "940/940 - 2s - loss: 0.5238 - accuracy: 0.7417 - val_loss: 0.5288 - val_accuracy: 0.7387 - 2s/epoch - 2ms/step\n",
            "Epoch 100/100\n",
            "940/940 - 2s - loss: 0.5237 - accuracy: 0.7415 - val_loss: 0.5287 - val_accuracy: 0.7384 - 2s/epoch - 2ms/step\n"
          ]
        }
      ]
    },
    {
      "cell_type": "markdown",
      "source": [
        "### Test the model"
      ],
      "metadata": {
        "id": "_b29mWUmtV3M"
      }
    },
    {
      "cell_type": "code",
      "source": [
        "test_loss, test_accuracy = model.evaluate(test_inputs, test_targets)\n",
        "print('\\nTest loss: {0:.2f}. Test accuracy: {1:.2f}%'.format(test_loss, test_accuracy*100))"
      ],
      "metadata": {
        "colab": {
          "base_uri": "https://localhost:8080/"
        },
        "id": "LfpmzBajtVgB",
        "outputId": "e8561f05-2998-426a-bc22-e7c2373c0468"
      },
      "execution_count": 14,
      "outputs": [
        {
          "output_type": "stream",
          "name": "stdout",
          "text": [
            "210/210 [==============================] - 1s 2ms/step - loss: 0.5231 - accuracy: 0.7377\n",
            "\n",
            "Test loss: 0.52. Test accuracy: 73.77%\n"
          ]
        }
      ]
    },
    {
      "cell_type": "markdown",
      "source": [
        "### Evaluate the Model"
      ],
      "metadata": {
        "id": "yvbWPhZ8N8Fh"
      }
    },
    {
      "cell_type": "code",
      "source": [
        "model.summary()"
      ],
      "metadata": {
        "colab": {
          "base_uri": "https://localhost:8080/"
        },
        "id": "BNM0mFN3JJ1-",
        "outputId": "8021f6a5-565e-4a9e-8980-ad4da52e6aed"
      },
      "execution_count": 15,
      "outputs": [
        {
          "output_type": "stream",
          "name": "stdout",
          "text": [
            "Model: \"sequential\"\n",
            "_________________________________________________________________\n",
            " Layer (type)                Output Shape              Param #   \n",
            "=================================================================\n",
            " dense (Dense)               (None, 25)                550       \n",
            "                                                                 \n",
            " dense_1 (Dense)             (None, 25)                650       \n",
            "                                                                 \n",
            " dense_2 (Dense)             (None, 2)                 52        \n",
            "                                                                 \n",
            "=================================================================\n",
            "Total params: 1252 (4.89 KB)\n",
            "Trainable params: 1252 (4.89 KB)\n",
            "Non-trainable params: 0 (0.00 Byte)\n",
            "_________________________________________________________________\n"
          ]
        }
      ]
    },
    {
      "cell_type": "code",
      "source": [
        "# evaluate the model\n",
        "plt.plot(history.history['accuracy'], label = 'accuracy')\n",
        "plt.plot(history.history['val_accuracy'], label = 'val_accuracy')\n",
        "plt.xlabel('Epoch')\n",
        "plt.ylabel('Accuracy')\n",
        "plt.legend()\n",
        "plt.grid()\n",
        "plt.show()"
      ],
      "metadata": {
        "colab": {
          "base_uri": "https://localhost:8080/",
          "height": 450
        },
        "id": "k16PQkDPDGog",
        "outputId": "74e508fa-0f88-4072-f3b2-92f787da437d"
      },
      "execution_count": 16,
      "outputs": [
        {
          "output_type": "display_data",
          "data": {
            "text/plain": [
              "<Figure size 640x480 with 1 Axes>"
            ],
            "image/png": "[encoded data removed]"
          },
          "metadata": {}
        }
      ]
    }
  ]
}